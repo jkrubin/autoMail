{
 "cells": [
  {
   "cell_type": "code",
   "execution_count": 29,
   "metadata": {},
   "outputs": [],
   "source": [
    "from openai import OpenAI\n",
    "import os\n",
    "from dotenv import load_dotenv\n",
    "load_dotenv()\n",
    "client = OpenAI()\n",
    "client.completions\n",
    "def perform_task(context, task, tools, tool_choice):\n",
    "    \"\"\"Performs a task given the context\"\"\"\n",
    "\n",
    "    messages = [\n",
    "        {\n",
    "            \"role\": \"system\",\n",
    "            \"content\": \"You are a helpful assistant.\"\n",
    "        },\n",
    "        {\n",
    "            \"role\": \"user\",\n",
    "            \"content\": f\"Context:\\n{context}\"\n",
    "        },\n",
    "        {\n",
    "            \"role\": \"user\",\n",
    "            \"content\": f\"Task:\\n{task}\"\n",
    "        },\n",
    "    ]\n",
    "\n",
    "    response = client.chat.completions.create(\n",
    "        model=\"gpt-3.5-turbo-0125\",\n",
    "        messages=messages,\n",
    "        tools= tools,\n",
    "        tool_choice=tool_choice\n",
    "    )\n",
    "\n",
    "    return response\n"
   ]
  },
  {
   "cell_type": "code",
   "execution_count": 4,
   "metadata": {},
   "outputs": [],
   "source": [
    "context = \"Hello, I am running late and I cannot be there on time for my 1:30 reservation. Would it be possible to reschedule it for 2:30. Also we have one person who cannot make it, so we will only need a table for 5 now. Thank you, - Jane Doe\"\n",
    "tasks =[\n",
    "    \"Classify the email into one of 3 categories, categories=['making a new reservation', 'cancel existing reservation', 'modify existing reservation'] and then extract the values using the appropriate function\",\n",
    "    \"given the output, call the corresponding given function name\"\n",
    "]"
   ]
  },
  {
   "cell_type": "code",
   "execution_count": 6,
   "metadata": {},
   "outputs": [],
   "source": [
    "messages = [\n",
    "    {\n",
    "        \"role\": \"system\",\n",
    "        \"content\": \"You are a helpful assistant.\"\n",
    "    },\n",
    "    {\n",
    "        \"role\": \"user\",\n",
    "        \"content\": f\"Context:\\n{context}\"\n",
    "    },\n",
    "    {\n",
    "        \"role\": \"user\",\n",
    "        \"content\": f\"Task:\\n{tasks[0]}\"\n",
    "    }\n",
    "]"
   ]
  },
  {
   "cell_type": "code",
   "execution_count": 30,
   "metadata": {},
   "outputs": [],
   "source": [
    "tools = [\n",
    "    {\n",
    "        \"type\": \"function\",\n",
    "        \"function\": {\n",
    "            \"name\": \"perform_action\",\n",
    "            \"description\": \"Take an email text and cataegorize it, then call the actions corresponding tool\",\n",
    "            \"parameters\": {\n",
    "                \"type\": \"object\",\n",
    "                \"properties\": {\n",
    "                    \"action\": {\n",
    "                        \"type\": \"string\",\n",
    "                        \"enum\": [\"new_reservation\", \"cancel_reservation\", \"modify_reservation\"],\n",
    "                        \"description\": \"Possible actions to perform on the reservation\",\n",
    "                    },\n",
    "                },\n",
    "                \"required\": [\"action\"],\n",
    "            },\n",
    "        }\n",
    "    },\n",
    "    {\n",
    "        \"type\": \"function\",\n",
    "        \"function\": {\n",
    "            \"name\": \"modify_reservation\",\n",
    "            \"description\": \"Extract Key/Value pairs for a modify reservation email\",\n",
    "            \"parameters\": {\n",
    "                \"type\": \"object\",\n",
    "                \"properties\": {\n",
    "                    \"client_name\": {\n",
    "                        \"type\": \"string\",\n",
    "                        \"description\": \"Full name of email sender\"\n",
    "                    },\n",
    "                    \"new_party_size\": {\n",
    "                        \"type\": \"string\",\n",
    "                        \"description\": \"The new size of the reservation list\"\n",
    "                    },\n",
    "                    \"new_time\": {\n",
    "                        \"type\": \"string\",\n",
    "                        \"description\": \"The new time for the reservation\"\n",
    "                    },\n",
    "                },\n",
    "                \"required\": [\"client_name\", \"new_party_size\", \"new_time\"]\n",
    "            }\n",
    "        }\n",
    "    },\n",
    "    {\n",
    "        \"type\": \"function\",\n",
    "        \"function\": {\n",
    "            \"name\": \"cancel_reservation\",\n",
    "            \"description\": \"Extract Key/Value pairs for a cancel reservation email\",\n",
    "            \"parameters\": {\n",
    "                \"type\": \"object\",\n",
    "                \"properties\": {\n",
    "                    \"client_name\": {\n",
    "                        \"type\": \"string\",\n",
    "                        \"description\": \"Full name of email sender\"\n",
    "                    },\n",
    "                }\n",
    "            }\n",
    "        }\n",
    "    },\n",
    "    {\n",
    "        \"type\": \"function\",\n",
    "        \"function\": {\n",
    "            \"name\": \"new_reservation\",\n",
    "            \"description\": \"Extract Key/Value pairs for a create reservation email\",\n",
    "            \"parameters\": {\n",
    "                \"type\": \"object\",\n",
    "                \"properties\": {\n",
    "                    \"client_name\": {\n",
    "                        \"type\": \"string\",\n",
    "                        \"description\": \"Full name of email sender\"\n",
    "                    },\n",
    "                    \"party_size\": {\n",
    "                        \"type\": \"string\",\n",
    "                        \"description\": \"The new size of the reservation list\"\n",
    "                    },\n",
    "                    \"time\": {\n",
    "                        \"type\": \"string\",\n",
    "                        \"description\": \"The new time for the reservation\"\n",
    "                    },\n",
    "                }\n",
    "            }\n",
    "        }\n",
    "    }\n",
    "]"
   ]
  },
  {
   "cell_type": "code",
   "execution_count": 24,
   "metadata": {},
   "outputs": [
    {
     "name": "stdout",
     "output_type": "stream",
     "text": [
      "[{'role': 'system', 'content': 'You are a helpful assistant.'}, {'role': 'user', 'content': 'Context:\\nHello, I am running late and I cannot be there on time for my 1:30 reservation. Would it be possible to reschedule it for 2:30. Also we have one person who cannot make it, so we will only need a table for 5 now. Thank you, - Jane Doe'}, {'role': 'user', 'content': \"Task:\\nClassify the email into one of 3 categories, categories=['making a new reservation', 'cancel existing reservation', 'modify existing reservation'] and respond with the string value of the correct category\"}, {'role': 'user', 'content': 'Task:\\ngiven the output, call the corresponding given function name'}]\n"
     ]
    }
   ],
   "source": [
    "print(messages)"
   ]
  },
  {
   "cell_type": "code",
   "execution_count": 31,
   "metadata": {},
   "outputs": [],
   "source": [
    "res = perform_task(\n",
    "    context=context,\n",
    "    task=tasks[0],\n",
    "    tools=tools,\n",
    "    tool_choice={\"type\": \"function\", \"function\": {\"name\": \"modify_reservation\"}}\n",
    ")\n",
    "res_action = eval(res.choices[0].message.tool_calls[0].function.arguments).get('action')"
   ]
  },
  {
   "cell_type": "code",
   "execution_count": 43,
   "metadata": {},
   "outputs": [
    {
     "name": "stdout",
     "output_type": "stream",
     "text": [
      "modify\n",
      "modify\n",
      "modify\n",
      "modify\n",
      "modify\n",
      "modify\n",
      "modify\n",
      "modify\n",
      "modify\n",
      "modify\n"
     ]
    }
   ],
   "source": [
    "for i in range(10):\n",
    "    res = client.chat.completions.create(\n",
    "        model = 'gpt-4-0125-preview',\n",
    "        messages=messages,\n",
    "        tools=tools,\n",
    "        tool_choice={\"type\": \"function\", \"function\": {\"name\": \"perform_action\"}}\n",
    "    )\n",
    "    print(eval(res.choices[0].message.tool_calls[0].function.arguments).get('action'))"
   ]
  },
  {
   "cell_type": "code",
   "execution_count": 32,
   "metadata": {},
   "outputs": [
    {
     "data": {
      "text/plain": [
       "Choice(finish_reason='stop', index=0, logprobs=None, message=ChatCompletionMessage(content=None, role='assistant', function_call=None, tool_calls=[ChatCompletionMessageToolCall(id='call_YYmDLLkwNsAdJzKCX8pGZqTI', function=Function(arguments='{\"client_name\":\"Jane Doe\",\"new_party_size\":\"5\",\"new_time\":\"2:30\"}', name='modify_reservation'), type='function')]))"
      ]
     },
     "execution_count": 32,
     "metadata": {},
     "output_type": "execute_result"
    }
   ],
   "source": [
    "res.choices[0]"
   ]
  },
  {
   "cell_type": "code",
   "execution_count": 27,
   "metadata": {},
   "outputs": [
    {
     "data": {
      "text/plain": [
       "[ChatCompletionMessageToolCall(id='call_5WnOv9EEjBX5hWKcLqzRDp2h', function=Function(arguments='{\"action\":\"modify_reservation\"}', name='perform_action'), type='function')]"
      ]
     },
     "execution_count": 27,
     "metadata": {},
     "output_type": "execute_result"
    }
   ],
   "source": [
    "res.choices[0].message.tool_calls"
   ]
  },
  {
   "cell_type": "code",
   "execution_count": 28,
   "metadata": {},
   "outputs": [
    {
     "data": {
      "text/plain": [
       "'modify_reservation'"
      ]
     },
     "execution_count": 28,
     "metadata": {},
     "output_type": "execute_result"
    }
   ],
   "source": [
    "eval(res.choices[0].message.tool_calls[0].function.arguments).get('action')"
   ]
  },
  {
   "cell_type": "code",
   "execution_count": 14,
   "metadata": {},
   "outputs": [
    {
     "name": "stdout",
     "output_type": "stream",
     "text": [
      "modify existing reservation\n",
      "modify existing reservation\n",
      "modify existing reservation\n",
      "modify existing reservation\n",
      "modify existing reservation\n",
      "modify existing reservation\n",
      "'modify existing reservation'\n",
      "modify existing reservation\n",
      "modify existing reservation\n",
      "modify existing reservation\n"
     ]
    }
   ],
   "source": [
    "context = \"Hello, I am running late and I cannot be there on time for my 1:30 reservation. Would it be possible to reschedule it for 2:30. Also we have one person who cannot make it, so we will only need a table for 5 now. Thank you, - Jane Doe\"\n",
    "task = \"Classify the email into one of 3 categories, categories=['making a new reservation', 'cancel existing reservation', 'modify existing reservation'] and respond with the string value of the correct category\"\n",
    "for i in range(10):\n",
    "    print(perform_task(context=context, task=task))"
   ]
  },
  {
   "cell_type": "code",
   "execution_count": 10,
   "metadata": {},
   "outputs": [
    {
     "name": "stdout",
     "output_type": "stream",
     "text": [
      "Category: modify existing reservation\n",
      "Array index: 2\n",
      "The email falls under the category of 'modify existing reservation' since Jane Doe is requesting a reschedule of the reservation and a change in the number of guests. The index of this category in the given list is 2.\n",
      "The email falls under the category of 'modify existing reservation' based on the request to reschedule the reservation from 1:30 to 2:30 and change the number of people from 6 to 5. The array index for this category is 2.\n",
      "Based on the content of the email, the classification would fall under the 'modify existing reservation' category. The email is requesting a change in the reservation time and a modification to the number of people in the party. Therefore, the array index corresponding to the 'modify existing reservation' category is 2.\n",
      "The email falls under the category of \"modify existing reservation\" as the sender is requesting to reschedule the reservation time and reduce the number of guests. The array index for this category would be 2.\n",
      "This email falls under the category of 'modify existing reservation' due to the request to reschedule the reservation from 1:30 to 2:30 and notify the change in party size. The correct array index for this category would be 2.\n",
      "The email falls under the category 'modify existing reservation'. The array index for this category is 2.\n",
      "The email falls under the category of 'modify existing reservation'. The correct array index for this category is 2.\n",
      "Category: modify existing reservation\n",
      "\n",
      "Response: 2\n",
      "The email can be classified as 'modify existing reservation'. The requested changes involve rescheduling the reservation to a new time and reducing the number of people in the reservation. Therefore, the correct category index is 2.\n",
      "\n",
      "Response: 2\n"
     ]
    }
   ],
   "source": [
    "context = \"Hello, I am running late and I cannot be there on time for my 1:30 reservation. Would it be possible to reschedule it for 2:30. Also we have one person who cannot make it, so we will only need a table for 5 now. Thank you, - Jane Doe\"\n",
    "task = \"Classify the email into one of 3 categories, categories=['making a new reservation', 'cancel existing reservation', 'modify existing reservation'] and respond with the array index of the correct category\"\n",
    "for i in range(10):\n",
    "    print(perform_task(context=context, task=task))"
   ]
  }
 ],
 "metadata": {
  "kernelspec": {
   "display_name": "Python 3",
   "language": "python",
   "name": "python3"
  },
  "language_info": {
   "codemirror_mode": {
    "name": "ipython",
    "version": 3
   },
   "file_extension": ".py",
   "mimetype": "text/x-python",
   "name": "python",
   "nbconvert_exporter": "python",
   "pygments_lexer": "ipython3",
   "version": "3.10.6"
  }
 },
 "nbformat": 4,
 "nbformat_minor": 2
}
